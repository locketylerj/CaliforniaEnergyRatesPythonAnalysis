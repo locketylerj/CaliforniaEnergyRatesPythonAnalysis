{
 "cells": [
  {
   "cell_type": "code",
   "execution_count": 4,
   "metadata": {},
   "outputs": [
    {
     "data": {
      "text/html": [
       "<div>\n",
       "<style>\n",
       "    .dataframe thead tr:only-child th {\n",
       "        text-align: right;\n",
       "    }\n",
       "\n",
       "    .dataframe thead th {\n",
       "        text-align: left;\n",
       "    }\n",
       "\n",
       "    .dataframe tbody tr th {\n",
       "        vertical-align: top;\n",
       "    }\n",
       "</style>\n",
       "<table border=\"1\" class=\"dataframe\">\n",
       "  <thead>\n",
       "    <tr style=\"text-align: right;\">\n",
       "      <th></th>\n",
       "      <th>Index</th>\n",
       "      <th>Average Retail Price (cents/kWh)</th>\n",
       "      <th>Net Summer Capacity (MW)</th>\n",
       "      <th>Net Generation (MWh)</th>\n",
       "      <th>Total Retail Sales (MWh)</th>\n",
       "      <th>Year</th>\n",
       "      <th>State</th>\n",
       "    </tr>\n",
       "  </thead>\n",
       "  <tbody>\n",
       "    <tr>\n",
       "      <th>0</th>\n",
       "      <td>1</td>\n",
       "      <td>8.40</td>\n",
       "      <td>45,146</td>\n",
       "      <td>197,565,363</td>\n",
       "      <td>143,540,004</td>\n",
       "      <td>2012</td>\n",
       "      <td>Illinois</td>\n",
       "    </tr>\n",
       "    <tr>\n",
       "      <th>1</th>\n",
       "      <td>2</td>\n",
       "      <td>8.30</td>\n",
       "      <td>44950</td>\n",
       "      <td>203004919</td>\n",
       "      <td>141804888</td>\n",
       "      <td>2013</td>\n",
       "      <td>Illinois</td>\n",
       "    </tr>\n",
       "    <tr>\n",
       "      <th>2</th>\n",
       "      <td>3</td>\n",
       "      <td>9.36</td>\n",
       "      <td>44727</td>\n",
       "      <td>202143878</td>\n",
       "      <td>141540287</td>\n",
       "      <td>2014</td>\n",
       "      <td>Illinois</td>\n",
       "    </tr>\n",
       "    <tr>\n",
       "      <th>3</th>\n",
       "      <td>4</td>\n",
       "      <td>9.40</td>\n",
       "      <td>45,532</td>\n",
       "      <td>193,952,040</td>\n",
       "      <td>138,619,970</td>\n",
       "      <td>2015</td>\n",
       "      <td>Illinois</td>\n",
       "    </tr>\n",
       "    <tr>\n",
       "      <th>4</th>\n",
       "      <td>5</td>\n",
       "      <td>9.38</td>\n",
       "      <td>44,843</td>\n",
       "      <td>187,441,635</td>\n",
       "      <td>141,050,409</td>\n",
       "      <td>2016</td>\n",
       "      <td>Illinois</td>\n",
       "    </tr>\n",
       "  </tbody>\n",
       "</table>\n",
       "</div>"
      ],
      "text/plain": [
       "   Index  Average Retail Price (cents/kWh) Net Summer Capacity (MW)  \\\n",
       "0      1                              8.40                   45,146   \n",
       "1      2                              8.30                    44950   \n",
       "2      3                              9.36                    44727   \n",
       "3      4                              9.40                   45,532   \n",
       "4      5                              9.38                   44,843   \n",
       "\n",
       "  Net Generation (MWh) Total Retail Sales (MWh)  Year     State  \n",
       "0          197,565,363              143,540,004  2012  Illinois  \n",
       "1            203004919                141804888  2013  Illinois  \n",
       "2            202143878                141540287  2014  Illinois  \n",
       "3          193,952,040              138,619,970  2015  Illinois  \n",
       "4          187,441,635              141,050,409  2016  Illinois  "
      ]
     },
     "execution_count": 4,
     "metadata": {},
     "output_type": "execute_result"
    }
   ],
   "source": [
    "# Dependency\n",
    "import pandas as pd\n",
    "import scipy.stats as stats\n",
    "\n",
    "# Import Data\n",
    "electricity = pd.read_csv(\"TyData/StatesAnnualRates.csv\")\n",
    "electricity.head()"
   ]
  },
  {
   "cell_type": "code",
   "execution_count": 6,
   "metadata": {},
   "outputs": [
    {
     "data": {
      "text/plain": [
       "array(['Illinois', 'Ohio', 'California', 'Alabama', 'New York', 'Arizona',\n",
       "       'Washington', 'Massachusetts', 'Florida', 'Texas'], dtype=object)"
      ]
     },
     "execution_count": 6,
     "metadata": {},
     "output_type": "execute_result"
    }
   ],
   "source": [
    "electricity[\"State\"].unique()\n",
    "#'Illinois', 'Ohio', 'California', 'Alabama', 'New York', 'Arizona','Washington', 'Massachusetts', 'Florida', 'Texas'"
   ]
  },
  {
   "cell_type": "code",
   "execution_count": 8,
   "metadata": {},
   "outputs": [],
   "source": [
    "NY=electricity[electricity[\"State\"]==\"New York\"][\"Average Retail Price (cents/kWh)\"]\n",
    "IL=electricity[electricity[\"State\"]==\"Illinois\"][\"Average Retail Price (cents/kWh)\"]\n",
    "OH=electricity[electricity[\"State\"]==\"Ohio\"][\"Average Retail Price (cents/kWh)\"]\n",
    "FL=electricity[electricity[\"State\"]==\"Florida\"][\"Average Retail Price (cents/kWh)\"]\n",
    "AL=electricity[electricity[\"State\"]==\"Alabama\"][\"Average Retail Price (cents/kWh)\"]\n",
    "TX=electricity[electricity[\"State\"]==\"Texas\"][\"Average Retail Price (cents/kWh)\"]\n",
    "AZ=electricity[electricity[\"State\"]==\"Arizona\"][\"Average Retail Price (cents/kWh)\"]\n",
    "MA=electricity[electricity[\"State\"]==\"Massachusetts\"][\"Average Retail Price (cents/kWh)\"]\n",
    "CA=electricity[electricity[\"State\"]==\"California\"][\"Average Retail Price (cents/kWh)\"]\n",
    "WA=electricity[electricity[\"State\"]==\"Washington\"][\"Average Retail Price (cents/kWh)\"]"
   ]
  },
  {
   "cell_type": "code",
   "execution_count": 9,
   "metadata": {},
   "outputs": [
    {
     "data": {
      "text/plain": [
       "F_onewayResult(statistic=183.43399499937104, pvalue=8.3116489699874094e-27)"
      ]
     },
     "execution_count": 9,
     "metadata": {},
     "output_type": "execute_result"
    }
   ],
   "source": [
    "# ANOVA\n",
    "stats.f_oneway(NY,IL,OH,FL,AL,TX,AZ,CA,WA)"
   ]
  },
  {
   "cell_type": "code",
   "execution_count": null,
   "metadata": {},
   "outputs": [],
   "source": []
  }
 ],
 "metadata": {
  "kernelspec": {
   "display_name": "Python 3",
   "language": "python",
   "name": "python3"
  },
  "language_info": {
   "codemirror_mode": {
    "name": "ipython",
    "version": 3
   },
   "file_extension": ".py",
   "mimetype": "text/x-python",
   "name": "python",
   "nbconvert_exporter": "python",
   "pygments_lexer": "ipython3",
   "version": "3.6.5"
  }
 },
 "nbformat": 4,
 "nbformat_minor": 2
}
