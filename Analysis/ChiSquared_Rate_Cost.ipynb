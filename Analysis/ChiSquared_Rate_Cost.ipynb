{
 "cells": [
  {
   "cell_type": "code",
   "execution_count": 2,
   "metadata": {},
   "outputs": [],
   "source": [
    "import numpy as np\n",
    "import pandas as pd\n",
    "import csv\n",
    "\n",
    "import scipy.stats as stats\n",
    "import matplotlib.pyplot as plt"
   ]
  },
  {
   "cell_type": "code",
   "execution_count": 3,
   "metadata": {},
   "outputs": [
    {
     "data": {
      "text/html": [
       "<div>\n",
       "<style scoped>\n",
       "    .dataframe tbody tr th:only-of-type {\n",
       "        vertical-align: middle;\n",
       "    }\n",
       "\n",
       "    .dataframe tbody tr th {\n",
       "        vertical-align: top;\n",
       "    }\n",
       "\n",
       "    .dataframe thead th {\n",
       "        text-align: right;\n",
       "    }\n",
       "</style>\n",
       "<table border=\"1\" class=\"dataframe\">\n",
       "  <thead>\n",
       "    <tr style=\"text-align: right;\">\n",
       "      <th></th>\n",
       "      <th>Average retail price of electricity</th>\n",
       "      <th>cents per kilowatthour</th>\n",
       "      <th>source key</th>\n",
       "      <th>2012</th>\n",
       "      <th>2013</th>\n",
       "      <th>2014</th>\n",
       "      <th>2015</th>\n",
       "      <th>2016</th>\n",
       "      <th>2017</th>\n",
       "      <th>Average6YearRate</th>\n",
       "    </tr>\n",
       "  </thead>\n",
       "  <tbody>\n",
       "    <tr>\n",
       "      <th>0</th>\n",
       "      <td>Connecticut</td>\n",
       "      <td>cents per kilowatthour</td>\n",
       "      <td>ELEC.PRICE.CT-ALL.A</td>\n",
       "      <td>15.54</td>\n",
       "      <td>15.66</td>\n",
       "      <td>17.05</td>\n",
       "      <td>17.77</td>\n",
       "      <td>17.24</td>\n",
       "      <td>17.62</td>\n",
       "      <td>16.81</td>\n",
       "    </tr>\n",
       "    <tr>\n",
       "      <th>1</th>\n",
       "      <td>Maine</td>\n",
       "      <td>cents per kilowatthour</td>\n",
       "      <td>ELEC.PRICE.ME-ALL.A</td>\n",
       "      <td>11.81</td>\n",
       "      <td>11.86</td>\n",
       "      <td>12.65</td>\n",
       "      <td>12.78</td>\n",
       "      <td>12.80</td>\n",
       "      <td>12.94</td>\n",
       "      <td>12.47</td>\n",
       "    </tr>\n",
       "    <tr>\n",
       "      <th>2</th>\n",
       "      <td>Massachusetts</td>\n",
       "      <td>cents per kilowatthour</td>\n",
       "      <td>ELEC.PRICE.MA-ALL.A</td>\n",
       "      <td>13.79</td>\n",
       "      <td>14.51</td>\n",
       "      <td>15.35</td>\n",
       "      <td>16.90</td>\n",
       "      <td>16.48</td>\n",
       "      <td>16.14</td>\n",
       "      <td>15.53</td>\n",
       "    </tr>\n",
       "    <tr>\n",
       "      <th>3</th>\n",
       "      <td>New Hampshire</td>\n",
       "      <td>cents per kilowatthour</td>\n",
       "      <td>ELEC.PRICE.NH-ALL.A</td>\n",
       "      <td>14.19</td>\n",
       "      <td>14.30</td>\n",
       "      <td>15.22</td>\n",
       "      <td>16.02</td>\n",
       "      <td>15.66</td>\n",
       "      <td>16.16</td>\n",
       "      <td>15.26</td>\n",
       "    </tr>\n",
       "    <tr>\n",
       "      <th>4</th>\n",
       "      <td>Rhode Island</td>\n",
       "      <td>cents per kilowatthour</td>\n",
       "      <td>ELEC.PRICE.RI-ALL.A</td>\n",
       "      <td>12.74</td>\n",
       "      <td>13.72</td>\n",
       "      <td>15.41</td>\n",
       "      <td>17.01</td>\n",
       "      <td>16.28</td>\n",
       "      <td>16.44</td>\n",
       "      <td>15.27</td>\n",
       "    </tr>\n",
       "  </tbody>\n",
       "</table>\n",
       "</div>"
      ],
      "text/plain": [
       "  Average retail price of electricity  cents per kilowatthour  \\\n",
       "0                         Connecticut  cents per kilowatthour   \n",
       "1                               Maine  cents per kilowatthour   \n",
       "2                       Massachusetts  cents per kilowatthour   \n",
       "3                       New Hampshire  cents per kilowatthour   \n",
       "4                        Rhode Island  cents per kilowatthour   \n",
       "\n",
       "            source key   2012   2013   2014   2015   2016   2017  \\\n",
       "0  ELEC.PRICE.CT-ALL.A  15.54  15.66  17.05  17.77  17.24  17.62   \n",
       "1  ELEC.PRICE.ME-ALL.A  11.81  11.86  12.65  12.78  12.80  12.94   \n",
       "2  ELEC.PRICE.MA-ALL.A  13.79  14.51  15.35  16.90  16.48  16.14   \n",
       "3  ELEC.PRICE.NH-ALL.A  14.19  14.30  15.22  16.02  15.66  16.16   \n",
       "4  ELEC.PRICE.RI-ALL.A  12.74  13.72  15.41  17.01  16.28  16.44   \n",
       "\n",
       "   Average6YearRate  \n",
       "0             16.81  \n",
       "1             12.47  \n",
       "2             15.53  \n",
       "3             15.26  \n",
       "4             15.27  "
      ]
     },
     "execution_count": 3,
     "metadata": {},
     "output_type": "execute_result"
    }
   ],
   "source": [
    "statesdata = \"../DataSets/Rates/Average_price_electricity.csv\"\n",
    "\n",
    "states_df = pd.read_csv(statesdata)\n",
    "states_df.head()"
   ]
  },
  {
   "cell_type": "code",
   "execution_count": 62,
   "metadata": {},
   "outputs": [
    {
     "name": "stdout",
     "output_type": "stream",
     "text": [
      "10\n",
      "41\n",
      "['Iowa', 'West Virginia', 'Kentucky', 'Arkansas', 'Louisiana', 'Oklahoma', 'Idaho', 'Utah', 'Wyoming', 'Washington']\n",
      "['Connecticut', 'Maine', 'Massachusetts', 'New Hampshire', 'Rhode Island', 'Vermont', 'New Jersey', 'New York', 'Pennsylvania', 'Illinois', 'Indiana', 'Michigan', 'Ohio', 'Wisconsin', 'Kansas', 'Minnesota', 'Missouri', 'Nebraska', 'North Dakota', 'South Dakota', 'Delaware', 'District Of Columbia', 'Florida', 'Georgia', 'Maryland', 'North Carolina', 'South Carolina', 'Virginia', 'Alabama', 'Mississippi', 'Tennessee', 'Texas', 'Arizona', 'Colorado', 'Montana', 'Nevada', 'New Mexico', 'California', 'Oregon', 'Alaska', ' Hawaii']\n"
     ]
    }
   ],
   "source": [
    "cheaplist = []\n",
    "expensivelist = []\n",
    "\n",
    "for index, row in states_df.iterrows():\n",
    "    \n",
    "    if row[\"Average6YearRate\"] > 8.5:\n",
    "        expensivelist.append(row[\"Average retail price of electricity\"])\n",
    "    else:\n",
    "        cheaplist.append(row[\"Average retail price of electricity\"])\n",
    "        \n",
    "print(len(cheaplist))\n",
    "print(len(expensivelist))\n",
    "print(cheaplist)\n",
    "print(expensivelist)"
   ]
  },
  {
   "cell_type": "code",
   "execution_count": 63,
   "metadata": {},
   "outputs": [
    {
     "name": "stdout",
     "output_type": "stream",
     "text": [
      "['Rhode Island', 'Texas', 'New Jersey', 'Florida', 'Virginia', 'California', 'Alaska', 'Massachusetts', 'Delaware', 'Arizona', 'Oklahoma', 'Mississippi', 'Louisiana', 'Nevada']\n",
      "------------------------------------------------------------------------------------------------------------------\n",
      "['Connecticut', 'Maine', 'Massachusetts', 'New Hampshire', 'Rhode Island', 'Vermont', 'New Jersey', 'New York', 'Pennsylvania', 'Illinois', 'Indiana', 'Michigan', 'Ohio', 'Wisconsin', 'Kansas', 'Minnesota', 'Missouri', 'Nebraska', 'North Dakota', 'South Dakota', 'Delaware', 'District Of Columbia', 'Florida', 'Georgia', 'Maryland', 'North Carolina', 'South Carolina', 'Virginia', 'Alabama', 'Mississippi', 'Tennessee', 'Texas', 'Arizona', 'Colorado', 'Montana', 'Nevada', 'New Mexico', 'California', 'Oregon', 'Alaska', ' Hawaii']\n",
      "------------------------------------------------------------------------------------------------------------------\n",
      "['Illinois', 'Ohio', 'Alabama', 'Washington', 'Arkansas', 'Colorado', 'Connecticut', 'Georgia', 'Hawaii', 'Idaho', 'Indiana', 'Iowa', 'Kansas', 'Kentucky', 'Maine', 'Maryland', 'Michigan', 'Minnesota', 'Missouri', 'Montana', 'Nebraska', 'New Hampshire', 'New Mexico', 'New York', 'North Carolina', 'North Dakota', 'Oregon', 'Pennsylvania', 'South Carolina', 'South Dakota', 'Tennessee', 'Utah', 'Vermont', 'Washington', 'West Virginia', 'Wisconsin', 'Wyoming']\n",
      "------------------------------------------------------------------------------------------------------------------\n",
      "['Iowa', 'West Virginia', 'Kentucky', 'Arkansas', 'Louisiana', 'Oklahoma', 'Idaho', 'Utah', 'Wyoming', 'Washington']\n"
     ]
    }
   ],
   "source": [
    "states = {\n",
    "\n",
    "         'Alabama','Alaska','Arizona','Arkansas','California','Colorado',\n",
    "         'Connecticut','Delaware','Florida','Georgia','Hawaii','Idaho', \n",
    "         'Illinois','Indiana','Iowa','Kansas','Kentucky','Louisiana',\n",
    "         'Maine','Maryland','Massachusetts','Michigan','Minnesota',\n",
    "         'Mississippi', 'Missouri','Montana','Nebraska','Nevada',\n",
    "         'New Hampshire','New Jersey','New Mexico','New York',\n",
    "         'North Carolina','North Dakota','Ohio',    \n",
    "         'Oklahoma','Oregon','Pennsylvania','Rhode Island',\n",
    "         'South Carolina','South Dakota','Tennessee','Texas','Utah',\n",
    "         'Vermont','Virginia','Washington','West Virginia',\n",
    "         'Wisconsin','Wyoming'\n",
    "    }\n",
    "lowcostusers = [\"Illinois\", \"Ohio\", \"Alabama\", \"Washington\", \"Arkansas\", \"Colorado\", \"Connecticut\", \"Georgia\", \"Hawaii\", \"Idaho\",\n",
    "          \"Indiana\",\"Iowa\",\"Kansas\",\"Kentucky\",\"Maine\",\"Maryland\",\"Michigan\",\"Minnesota\",\"Missouri\", \"Montana\", \"Nebraska\", \n",
    "          \"New Hampshire\",\"New Mexico\", \"New York\", \"North Carolina\", \"North Dakota\", \"Oregon\",\"Pennsylvania\", \"South Carolina\",\n",
    "          \"South Dakota\", \"Tennessee\",\"Utah\", \"Vermont\", \"Washington\", \"West Virginia\", \"Wisconsin\", \"Wyoming\"]\n",
    "\n",
    "highcostusers = []\n",
    "\n",
    "for state in states:\n",
    "    if state not in lowcostusers:\n",
    "        highcostusers.append(state)\n",
    "print(highcostusers)\n",
    "print(\"------------------------------------------------------------------------------------------------------------------\")\n",
    "print(expensivelist)\n",
    "print(\"------------------------------------------------------------------------------------------------------------------\")\n",
    "print(lowcostusers)\n",
    "print(\"------------------------------------------------------------------------------------------------------------------\")\n",
    "print(cheaplist)"
   ]
  },
  {
   "cell_type": "code",
   "execution_count": 64,
   "metadata": {},
   "outputs": [
    {
     "name": "stdout",
     "output_type": "stream",
     "text": [
      "12\n",
      "2\n",
      "27\n",
      "8\n"
     ]
    }
   ],
   "source": [
    "hchr = len(set(highcostusers) & set(expensivelist))\n",
    "hclr = len(set(highcostusers) & set(cheaplist))\n",
    "lchr = len(set(lowcostusers) & set(expensivelist))\n",
    "lclr = len(set(lowcostusers) & set(cheaplist))\n",
    "\n",
    "# if state in highcostusers and expensivelist:\n",
    "#     hchr.append(state)\n",
    "#     elif state in highcostusers and cheaplist\n",
    "#         hclr.append(state)\n",
    "        \n",
    "# if state in lowcostusers and expensivelist:\n",
    "#     lchr.append(state)\n",
    "# if state in lowcostusers and cheaplist:\n",
    "#     lclr.append(state)\n",
    "print(hchr)\n",
    "print(hclr)\n",
    "print(lchr)\n",
    "print(lclr)"
   ]
  },
  {
   "cell_type": "code",
   "execution_count": 65,
   "metadata": {},
   "outputs": [
    {
     "data": {
      "text/html": [
       "<div>\n",
       "<style scoped>\n",
       "    .dataframe tbody tr th:only-of-type {\n",
       "        vertical-align: middle;\n",
       "    }\n",
       "\n",
       "    .dataframe tbody tr th {\n",
       "        vertical-align: top;\n",
       "    }\n",
       "\n",
       "    .dataframe thead th {\n",
       "        text-align: right;\n",
       "    }\n",
       "</style>\n",
       "<table border=\"1\" class=\"dataframe\">\n",
       "  <thead>\n",
       "    <tr style=\"text-align: right;\">\n",
       "      <th></th>\n",
       "      <th>0</th>\n",
       "      <th>1</th>\n",
       "    </tr>\n",
       "  </thead>\n",
       "  <tbody>\n",
       "    <tr>\n",
       "      <th>High Energy Cost Users</th>\n",
       "      <td>12</td>\n",
       "      <td>2</td>\n",
       "    </tr>\n",
       "    <tr>\n",
       "      <th>Low Energy Cost Users</th>\n",
       "      <td>27</td>\n",
       "      <td>8</td>\n",
       "    </tr>\n",
       "  </tbody>\n",
       "</table>\n",
       "</div>"
      ],
      "text/plain": [
       "                         0  1\n",
       "High Energy Cost Users  12  2\n",
       "Low Energy Cost Users   27  8"
      ]
     },
     "execution_count": 65,
     "metadata": {},
     "output_type": "execute_result"
    }
   ],
   "source": [
    "data = pd.Series([hchr,lchr], index=[\"High Energy Cost Users\", \"Low Energy Cost Users\"])\n",
    "chi_df = pd.DataFrame([data]).T\n",
    "chi_df[1] = [hclr,lclr]\n",
    "\n",
    "chi_df"
   ]
  },
  {
   "cell_type": "code",
   "execution_count": 80,
   "metadata": {},
   "outputs": [
    {
     "data": {
      "text/html": [
       "<div>\n",
       "<style scoped>\n",
       "    .dataframe tbody tr th:only-of-type {\n",
       "        vertical-align: middle;\n",
       "    }\n",
       "\n",
       "    .dataframe tbody tr th {\n",
       "        vertical-align: top;\n",
       "    }\n",
       "\n",
       "    .dataframe thead th {\n",
       "        text-align: right;\n",
       "    }\n",
       "</style>\n",
       "<table border=\"1\" class=\"dataframe\">\n",
       "  <thead>\n",
       "    <tr style=\"text-align: right;\">\n",
       "      <th></th>\n",
       "      <th>ExpensiveRates(&gt;$0.085)</th>\n",
       "      <th>CheapRates(=&lt;$0.085)</th>\n",
       "    </tr>\n",
       "  </thead>\n",
       "  <tbody>\n",
       "    <tr>\n",
       "      <th>High Energy Cost Users</th>\n",
       "      <td>12</td>\n",
       "      <td>2</td>\n",
       "    </tr>\n",
       "    <tr>\n",
       "      <th>Low Energy Cost Users</th>\n",
       "      <td>27</td>\n",
       "      <td>8</td>\n",
       "    </tr>\n",
       "  </tbody>\n",
       "</table>\n",
       "</div>"
      ],
      "text/plain": [
       "                        ExpensiveRates(>$0.085)  CheapRates(=<$0.085)\n",
       "High Energy Cost Users                       12                     2\n",
       "Low Energy Cost Users                        27                     8"
      ]
     },
     "execution_count": 80,
     "metadata": {},
     "output_type": "execute_result"
    }
   ],
   "source": [
    "chi_df.columns = [\"ExpensiveRates(>$0.085)\",\"CheapRates(=<$0.085)\"]\n",
    "\n",
    "chi_df\n",
    "# data = pd.DataFrame({\"Expensive Rates (>$0.11)\": [hchr,lchr],\n",
    "#                     \"Cheap Rates (=<$0.11)\": [hclr,lclr]})\n",
    "# chi_df=chi_df.append(data)\n",
    "# chi_df.head()"
   ]
  },
  {
   "cell_type": "code",
   "execution_count": 81,
   "metadata": {},
   "outputs": [
    {
     "data": {
      "text/plain": [
       "array([[ 3.71428571,  9.28571429],\n",
       "       [10.28571429, 25.71428571]])"
      ]
     },
     "execution_count": 81,
     "metadata": {},
     "output_type": "execute_result"
    }
   ],
   "source": [
    "observed = np.array([[6,7],[8,28]])\n",
    "stats.contingency.expected_freq(observed)\n"
   ]
  },
  {
   "cell_type": "code",
   "execution_count": 82,
   "metadata": {},
   "outputs": [
    {
     "data": {
      "text/plain": [
       "(1.6359508547008548, 0.20088193349618605, 1, array([[ 3.71428571,  9.28571429],\n",
       "        [10.28571429, 25.71428571]]))"
      ]
     },
     "execution_count": 82,
     "metadata": {},
     "output_type": "execute_result"
    }
   ],
   "source": [
    "stats.chi2_contingency(observed)"
   ]
  },
  {
   "cell_type": "code",
   "execution_count": 83,
   "metadata": {},
   "outputs": [],
   "source": [
    "# Pvalue is the probability the variables are independent. \n",
    "#pvalue is greater than 0.05 which means the result is not significant. \n",
    "#meaning we think that cost of higher cost electricity sources does not \n",
    "#confidently transfer to higher rates."
   ]
  },
  {
   "cell_type": "code",
   "execution_count": 84,
   "metadata": {},
   "outputs": [
    {
     "data": {
      "text/html": [
       "<div>\n",
       "<style scoped>\n",
       "    .dataframe tbody tr th:only-of-type {\n",
       "        vertical-align: middle;\n",
       "    }\n",
       "\n",
       "    .dataframe tbody tr th {\n",
       "        vertical-align: top;\n",
       "    }\n",
       "\n",
       "    .dataframe thead th {\n",
       "        text-align: right;\n",
       "    }\n",
       "</style>\n",
       "<table border=\"1\" class=\"dataframe\">\n",
       "  <thead>\n",
       "    <tr style=\"text-align: right;\">\n",
       "      <th></th>\n",
       "      <th>States</th>\n",
       "      <th>2010</th>\n",
       "      <th>2011</th>\n",
       "      <th>2012</th>\n",
       "      <th>2013</th>\n",
       "      <th>2014</th>\n",
       "      <th>2015</th>\n",
       "      <th>2016</th>\n",
       "      <th>2017</th>\n",
       "      <th>7YearAverage</th>\n",
       "      <th>PopAvgMillions</th>\n",
       "    </tr>\n",
       "  </thead>\n",
       "  <tbody>\n",
       "    <tr>\n",
       "      <th>0</th>\n",
       "      <td>Alabama</td>\n",
       "      <td>4,785,579</td>\n",
       "      <td>4,798,649</td>\n",
       "      <td>4,813,946</td>\n",
       "      <td>4,827,660</td>\n",
       "      <td>4,840,037</td>\n",
       "      <td>4,850,858</td>\n",
       "      <td>4,860,545</td>\n",
       "      <td>4,874,747</td>\n",
       "      <td>4831503</td>\n",
       "      <td>4.831503</td>\n",
       "    </tr>\n",
       "    <tr>\n",
       "      <th>1</th>\n",
       "      <td>Alaska</td>\n",
       "      <td>714,015</td>\n",
       "      <td>722,259</td>\n",
       "      <td>730,825</td>\n",
       "      <td>736,760</td>\n",
       "      <td>736,759</td>\n",
       "      <td>737,979</td>\n",
       "      <td>741,522</td>\n",
       "      <td>739,795</td>\n",
       "      <td>732489</td>\n",
       "      <td>0.732489</td>\n",
       "    </tr>\n",
       "    <tr>\n",
       "      <th>2</th>\n",
       "      <td>Arizona</td>\n",
       "      <td>6,407,002</td>\n",
       "      <td>6,465,488</td>\n",
       "      <td>6,544,211</td>\n",
       "      <td>6,616,124</td>\n",
       "      <td>6,706,435</td>\n",
       "      <td>6,802,262</td>\n",
       "      <td>6,908,642</td>\n",
       "      <td>7,016,270</td>\n",
       "      <td>6683304</td>\n",
       "      <td>6.683304</td>\n",
       "    </tr>\n",
       "    <tr>\n",
       "      <th>3</th>\n",
       "      <td>Arkansas</td>\n",
       "      <td>2,921,737</td>\n",
       "      <td>2,938,640</td>\n",
       "      <td>2,949,208</td>\n",
       "      <td>2,956,780</td>\n",
       "      <td>2,964,800</td>\n",
       "      <td>2,975,626</td>\n",
       "      <td>2,988,231</td>\n",
       "      <td>3,004,279</td>\n",
       "      <td>2962413</td>\n",
       "      <td>2.962413</td>\n",
       "    </tr>\n",
       "    <tr>\n",
       "      <th>4</th>\n",
       "      <td>California</td>\n",
       "      <td>37,327,690</td>\n",
       "      <td>37,672,654</td>\n",
       "      <td>38,019,006</td>\n",
       "      <td>38,347,383</td>\n",
       "      <td>38,701,278</td>\n",
       "      <td>39,032,444</td>\n",
       "      <td>39,296,476</td>\n",
       "      <td>39,536,653</td>\n",
       "      <td>38491698</td>\n",
       "      <td>38.491698</td>\n",
       "    </tr>\n",
       "  </tbody>\n",
       "</table>\n",
       "</div>"
      ],
      "text/plain": [
       "       States        2010        2011        2012        2013        2014  \\\n",
       "0     Alabama   4,785,579   4,798,649   4,813,946   4,827,660   4,840,037   \n",
       "1      Alaska     714,015     722,259     730,825     736,760     736,759   \n",
       "2     Arizona   6,407,002   6,465,488   6,544,211   6,616,124   6,706,435   \n",
       "3    Arkansas   2,921,737   2,938,640   2,949,208   2,956,780   2,964,800   \n",
       "4  California  37,327,690  37,672,654  38,019,006  38,347,383  38,701,278   \n",
       "\n",
       "         2015        2016        2017  7YearAverage  PopAvgMillions  \n",
       "0   4,850,858   4,860,545   4,874,747       4831503        4.831503  \n",
       "1     737,979     741,522     739,795        732489        0.732489  \n",
       "2   6,802,262   6,908,642   7,016,270       6683304        6.683304  \n",
       "3   2,975,626   2,988,231   3,004,279       2962413        2.962413  \n",
       "4  39,032,444  39,296,476  39,536,653      38491698       38.491698  "
      ]
     },
     "execution_count": 84,
     "metadata": {},
     "output_type": "execute_result"
    }
   ],
   "source": [
    "popdata = \"../DataSets/Rates/CensusStatesPopulations.csv\"\n",
    "pop_df = pd.read_csv(popdata)\n",
    "pop_df['7YearAverage'] = pop_df['7YearAverage'].str.replace(',', '')\n",
    "pop_df['7YearAverage'] = pop_df['7YearAverage'].astype(int)\n",
    "pop_df.head()"
   ]
  },
  {
   "cell_type": "code",
   "execution_count": 85,
   "metadata": {},
   "outputs": [
    {
     "data": {
      "text/plain": [
       "6.22548525490196"
      ]
     },
     "execution_count": 85,
     "metadata": {},
     "output_type": "execute_result"
    }
   ],
   "source": [
    "pop_df[\"PopAvgMillions\"].mean()\n"
   ]
  },
  {
   "cell_type": "code",
   "execution_count": 86,
   "metadata": {},
   "outputs": [
    {
     "name": "stdout",
     "output_type": "stream",
     "text": [
      "8\n",
      "43\n",
      "['Florida', 'Texas', 'Georgia', 'Illinois', 'California', 'Ohio', 'Pennsylvania', 'New York']\n",
      "['Idaho', 'South Dakota', 'Alabama', 'Indiana', 'District of Columbia', 'Utah', 'Montana', 'Vermont', 'Maine', 'Kansas', 'Rhode Island', 'Hawaii', 'Minnesota', 'New Hampshire', 'New Jersey', 'West Virginia', 'Maryland', 'New Mexico', 'Washington', 'Missouri', 'Connecticut', 'Tennessee', 'Oregon', 'Virginia', 'Alaska', 'Kentucky', 'Arkansas', 'North Dakota', 'Massachusetts', 'Michigan', 'Delaware', 'South Carolina', 'Wyoming', 'Wisconsin', 'Iowa', 'Arizona', 'Oklahoma', 'Mississippi', 'Louisiana', 'Colorado', 'North Carolina', 'Nebraska', 'Nevada']\n"
     ]
    }
   ],
   "source": [
    "highpop = []\n",
    "lowpop = []\n",
    "\n",
    "for index, row in pop_df.iterrows():\n",
    "    \n",
    "    if row[\"PopAvgMillions\"] > 10:\n",
    "        highpop.append(row[\"States\"])\n",
    "    else:\n",
    "        lowpop.append(row[\"States\"])\n",
    "highpop = list(set(highpop))  \n",
    "lowpop = list(set(lowpop))\n",
    "print(len(highpop))\n",
    "print(len(lowpop))\n",
    "print(highpop)\n",
    "print(lowpop)"
   ]
  },
  {
   "cell_type": "code",
   "execution_count": 87,
   "metadata": {},
   "outputs": [
    {
     "name": "stdout",
     "output_type": "stream",
     "text": [
      "8\n",
      "0\n",
      "31\n",
      "10\n"
     ]
    }
   ],
   "source": [
    "hphr = len(set(highpop) & set(expensivelist))\n",
    "hplr = len(set(highpop) & set(cheaplist))\n",
    "lphr = len(set(lowpop) & set(expensivelist))\n",
    "lplr = len(set(lowpop) & set(cheaplist))\n",
    "print(hphr)\n",
    "print(hplr)\n",
    "print(lphr)\n",
    "print(lplr)"
   ]
  },
  {
   "cell_type": "code",
   "execution_count": 88,
   "metadata": {},
   "outputs": [
    {
     "data": {
      "text/html": [
       "<div>\n",
       "<style scoped>\n",
       "    .dataframe tbody tr th:only-of-type {\n",
       "        vertical-align: middle;\n",
       "    }\n",
       "\n",
       "    .dataframe tbody tr th {\n",
       "        vertical-align: top;\n",
       "    }\n",
       "\n",
       "    .dataframe thead th {\n",
       "        text-align: right;\n",
       "    }\n",
       "</style>\n",
       "<table border=\"1\" class=\"dataframe\">\n",
       "  <thead>\n",
       "    <tr style=\"text-align: right;\">\n",
       "      <th></th>\n",
       "      <th>0</th>\n",
       "      <th>1</th>\n",
       "    </tr>\n",
       "  </thead>\n",
       "  <tbody>\n",
       "    <tr>\n",
       "      <th>High Population States</th>\n",
       "      <td>8</td>\n",
       "      <td>0</td>\n",
       "    </tr>\n",
       "    <tr>\n",
       "      <th>Low Population States</th>\n",
       "      <td>31</td>\n",
       "      <td>10</td>\n",
       "    </tr>\n",
       "  </tbody>\n",
       "</table>\n",
       "</div>"
      ],
      "text/plain": [
       "                         0   1\n",
       "High Population States   8   0\n",
       "Low Population States   31  10"
      ]
     },
     "execution_count": 88,
     "metadata": {},
     "output_type": "execute_result"
    }
   ],
   "source": [
    "data = pd.Series([hphr,lphr], index=[\"High Population States\", \"Low Population States\"])\n",
    "chi2_df = pd.DataFrame([data]).T\n",
    "chi2_df[1] = [hplr,lplr]\n",
    "\n",
    "chi2_df"
   ]
  },
  {
   "cell_type": "code",
   "execution_count": 89,
   "metadata": {},
   "outputs": [
    {
     "data": {
      "text/html": [
       "<div>\n",
       "<style scoped>\n",
       "    .dataframe tbody tr th:only-of-type {\n",
       "        vertical-align: middle;\n",
       "    }\n",
       "\n",
       "    .dataframe tbody tr th {\n",
       "        vertical-align: top;\n",
       "    }\n",
       "\n",
       "    .dataframe thead th {\n",
       "        text-align: right;\n",
       "    }\n",
       "</style>\n",
       "<table border=\"1\" class=\"dataframe\">\n",
       "  <thead>\n",
       "    <tr style=\"text-align: right;\">\n",
       "      <th></th>\n",
       "      <th>ExpensiveRates(&gt;$0.085)</th>\n",
       "      <th>CheapRates(=&lt;$0.085)</th>\n",
       "    </tr>\n",
       "  </thead>\n",
       "  <tbody>\n",
       "    <tr>\n",
       "      <th>High Population States</th>\n",
       "      <td>8</td>\n",
       "      <td>0</td>\n",
       "    </tr>\n",
       "    <tr>\n",
       "      <th>Low Population States</th>\n",
       "      <td>31</td>\n",
       "      <td>10</td>\n",
       "    </tr>\n",
       "  </tbody>\n",
       "</table>\n",
       "</div>"
      ],
      "text/plain": [
       "                        ExpensiveRates(>$0.085)  CheapRates(=<$0.085)\n",
       "High Population States                        8                     0\n",
       "Low Population States                        31                    10"
      ]
     },
     "execution_count": 89,
     "metadata": {},
     "output_type": "execute_result"
    }
   ],
   "source": [
    "chi2_df.columns = [\"ExpensiveRates(>$0.085)\",\"CheapRates(=<$0.085)\"]\n",
    "\n",
    "chi2_df"
   ]
  },
  {
   "cell_type": "code",
   "execution_count": 90,
   "metadata": {},
   "outputs": [
    {
     "data": {
      "text/plain": [
       "array([[ 6.36734694, 32.63265306],\n",
       "       [ 1.63265306,  8.36734694]])"
      ]
     },
     "execution_count": 90,
     "metadata": {},
     "output_type": "execute_result"
    }
   ],
   "source": [
    "observed = np.array([[8,31],[0,10]])\n",
    "stats.contingency.expected_freq(observed)"
   ]
  },
  {
   "cell_type": "code",
   "execution_count": 91,
   "metadata": {},
   "outputs": [
    {
     "data": {
      "text/plain": [
       "(1.1798956378986865, 0.2773772426260761, 1, array([[ 6.36734694, 32.63265306],\n",
       "        [ 1.63265306,  8.36734694]]))"
      ]
     },
     "execution_count": 91,
     "metadata": {},
     "output_type": "execute_result"
    }
   ],
   "source": [
    "stats.chi2_contingency(observed)"
   ]
  },
  {
   "cell_type": "code",
   "execution_count": null,
   "metadata": {},
   "outputs": [],
   "source": []
  }
 ],
 "metadata": {
  "kernelspec": {
   "display_name": "Python 3",
   "language": "python",
   "name": "python3"
  },
  "language_info": {
   "codemirror_mode": {
    "name": "ipython",
    "version": 3
   },
   "file_extension": ".py",
   "mimetype": "text/x-python",
   "name": "python",
   "nbconvert_exporter": "python",
   "pygments_lexer": "ipython3",
   "version": "3.6.5"
  }
 },
 "nbformat": 4,
 "nbformat_minor": 2
}
